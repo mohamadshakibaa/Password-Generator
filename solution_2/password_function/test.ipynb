{
 "cells": [
  {
   "cell_type": "markdown",
   "id": "03b1e63c",
   "metadata": {},
   "source": [
    "- def generate digits\n",
    "- def generate string\n",
    "- def generate add punctual \n",
    "- def create"
   ]
  },
  {
   "cell_type": "code",
   "execution_count": 322,
   "id": "06d62c85",
   "metadata": {},
   "outputs": [
    {
     "name": "stderr",
     "output_type": "stream",
     "text": [
      "[nltk_data] Downloading package words to /home/mohamad/nltk_data...\n",
      "[nltk_data]   Package words is already up-to-date!\n"
     ]
    }
   ],
   "source": [
    "import string\n",
    "import random\n",
    "import nltk\n",
    "\n",
    "nltk.download(\"words\")\n",
    "\n",
    "def generate_password(length: int = 8):\n",
    "    all_charecter = string.ascii_letters + string.digits + string.punctuation\n",
    "    if not length:\n",
    "        return all_charecter\n",
    "    return ''.join([random.choice(all_charecter) for _ in range(length)])\n",
    "\n",
    "\n",
    "def pin_password_generate(length: int = 8):\n",
    "    if not length:\n",
    "        length = string.digits\n",
    "        return length\n",
    "    return ''.join([random.choice(string.digits) for _ in range(length)])\n",
    "\n",
    "\n",
    "def memorable_password_generate(vocab: list = 4, seperate: str = \"-\"):\n",
    "    list_vocab = nltk.corpus.words.words()\n",
    "    if not vocab:\n",
    "        return list_vocab \n",
    "    return seperate.join([random.choice(list_vocab) for _ in range(vocab)])\n",
    "\n",
    "\n",
    "def create_all():\n",
    "    print(generate_password())\n",
    "    print(pin_password_generate())\n",
    "    print(memorable_password_generate())\n"
   ]
  },
  {
   "cell_type": "code",
   "execution_count": 327,
   "id": "392db97b",
   "metadata": {},
   "outputs": [
    {
     "name": "stdout",
     "output_type": "stream",
     "text": [
      "<yk'UV|leLJeNp[;fjK6\n",
      "43612012\n",
      "Libocedrus-wrongless-chhatri-nontransposing\n"
     ]
    }
   ],
   "source": [
    "print(generate_password(20))\n",
    "print(pin_password_generate())\n",
    "print(memorable_password_generate())"
   ]
  },
  {
   "cell_type": "code",
   "execution_count": 8,
   "id": "6c07cc5a",
   "metadata": {},
   "outputs": [],
   "source": [
    "import nltk\n",
    "from nltk.corpus import words"
   ]
  },
  {
   "cell_type": "code",
   "execution_count": 9,
   "id": "3ef994ab",
   "metadata": {},
   "outputs": [],
   "source": [
    "\n",
    "def generate_memorable_password(\n",
    "        number_of_word: int = 4,\n",
    "        vocab: list = 4,\n",
    "        seperate: str = \"-\",\n",
    "        captalize: bool = False\n",
    "    ):\n",
    "        vocab = nltk.corpus.words.words()\n",
    "        if not vocab:\n",
    "            vocab\n",
    "        if captalize:\n",
    "            return seperate.join([random.choice(vocab).upper() for _ in range(number_of_word)])\n",
    "        \n",
    "        return seperate.join([random.choice(vocab).upper() if random.choice([True, False]) else random.choice(vocab).lower() for _ in range(number_of_word)])"
   ]
  },
  {
   "cell_type": "code",
   "execution_count": 10,
   "id": "b0166ada",
   "metadata": {},
   "outputs": [],
   "source": [
    "import random\n",
    "import string\n",
    "\n",
    "def generate_random_password(length: int = 8, include_numbers: bool = False, include_symbols: bool = False):\n",
    "    password = string.ascii_letters\n",
    "    if include_numbers:\n",
    "        password += string.digits\n",
    "    if include_symbols:\n",
    "        password += string.punctuation\n",
    "\n",
    "    return ''.join([random.choice(password) for _ in range(length)])"
   ]
  },
  {
   "cell_type": "code",
   "execution_count": 11,
   "id": "0586e470",
   "metadata": {},
   "outputs": [],
   "source": [
    "def generate_pin(length: int = 8):\n",
    "    if not length:\n",
    "        length = string.digits\n",
    "        return length\n",
    "    return ''.join([random.choice(string.digits) for _ in range(length)])\n"
   ]
  },
  {
   "cell_type": "code",
   "execution_count": 12,
   "id": "70b4eabd",
   "metadata": {},
   "outputs": [],
   "source": [
    "def generate_memorable_password(\n",
    "        number_of_word: int = 4,\n",
    "        vocab: list = 4,\n",
    "        seperate: str = \"-\",\n",
    "        captalize: bool = False\n",
    "    ):\n",
    "        vocab = nltk.corpus.words.words()\n",
    "        if not vocab:\n",
    "            vocab\n",
    "        if captalize:\n",
    "            return seperate.join([random.choice(vocab).upper() for _ in range(number_of_word)])\n",
    "        \n",
    "        return seperate.join([random.choice(vocab).upper() if random.choice([True, False]) else random.choice(vocab).lower() for _ in range(number_of_word)])\n"
   ]
  },
  {
   "cell_type": "code",
   "execution_count": 13,
   "id": "42a7db55",
   "metadata": {},
   "outputs": [],
   "source": [
    "\n",
    "def main():\n",
    "    print(\"Test for Pin password: \")\n",
    "    print(generate_pin())\n",
    "    print(\"\\nTest for Generate password: \")\n",
    "    print(generate_random_password())\n",
    "    print(\"\\nTest for Memorable password: \")\n",
    "    print(generate_memorable_password(captalize=False))\n"
   ]
  },
  {
   "cell_type": "code",
   "execution_count": 14,
   "id": "d461ddf8",
   "metadata": {},
   "outputs": [
    {
     "name": "stdout",
     "output_type": "stream",
     "text": [
      "Test for Pin password: \n",
      "68471632\n",
      "\n",
      "Test for Generate password: \n",
      "DnrLJBCm\n",
      "\n",
      "Test for Memorable password: \n",
      "woundedly-recantingly-SPLANCHNOPLEURE-ASE\n"
     ]
    }
   ],
   "source": [
    "if __name__ == \"__main__\":\n",
    "    main()\n"
   ]
  }
 ],
 "metadata": {
  "kernelspec": {
   "display_name": "tmp",
   "language": "python",
   "name": "python3"
  },
  "language_info": {
   "codemirror_mode": {
    "name": "ipython",
    "version": 3
   },
   "file_extension": ".py",
   "mimetype": "text/x-python",
   "name": "python",
   "nbconvert_exporter": "python",
   "pygments_lexer": "ipython3",
   "version": "3.10.18"
  }
 },
 "nbformat": 4,
 "nbformat_minor": 5
}
